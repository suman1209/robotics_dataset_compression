{
 "cells": [
  {
   "cell_type": "code",
   "execution_count": 18,
   "metadata": {},
   "outputs": [],
   "source": [
    "import sys  \n",
    "sys.path.insert(1, '../')\n",
    "from utils.dataset_utils import OriginalDataset\n",
    "import numpy as np"
   ]
  },
  {
   "cell_type": "code",
   "execution_count": 19,
   "metadata": {},
   "outputs": [
    {
     "name": "stdout",
     "output_type": "stream",
     "text": [
      "166\n"
     ]
    }
   ],
   "source": [
    "original_dataset = OriginalDataset('../dataset/droid_100_sample_pictures')\n",
    "len_ = (original_dataset.__len__())\n",
    "print(len_)"
   ]
  },
  {
   "cell_type": "code",
   "execution_count": 22,
   "metadata": {},
   "outputs": [],
   "source": [
    "image1 = original_dataset[0]\n",
    "image2 = original_dataset[1]\n",
    "image1 = np.array(image1, dtype = np.int16)\n",
    "image2 = np.array(image2, dtype = np.int16)\n",
    "diff_img = image2 - image1"
   ]
  },
  {
   "cell_type": "code",
   "execution_count": 32,
   "metadata": {},
   "outputs": [
    {
     "data": {
      "text/plain": [
       "{'-3': 10455,\n",
       " '0': 35588,\n",
       " '5': 3197,\n",
       " '-2': 17595,\n",
       " '-1': 26736,\n",
       " '3': 11097,\n",
       " '1': 28116,\n",
       " '2': 18647,\n",
       " '7': 907,\n",
       " '4': 6221,\n",
       " '-4': 5654,\n",
       " '-5': 2919,\n",
       " '-7': 817,\n",
       " '-14': 7,\n",
       " '-8': 415,\n",
       " '6': 1601,\n",
       " '9': 209,\n",
       " '-6': 1577,\n",
       " '8': 449,\n",
       " '10': 116,\n",
       " '-9': 181,\n",
       " '-10': 110,\n",
       " '11': 54,\n",
       " '12': 21,\n",
       " '13': 13,\n",
       " '-11': 37,\n",
       " '14': 10,\n",
       " '-13': 18,\n",
       " '-12': 20,\n",
       " '15': 5,\n",
       " '-15': 3,\n",
       " '-16': 3,\n",
       " '16': 2}"
      ]
     },
     "execution_count": 32,
     "metadata": {},
     "output_type": "execute_result"
    }
   ],
   "source": [
    "from collections import Counter\n",
    "flattened_diff = diff_img.flatten()\n",
    "freq = Counter(flattened_diff)\n",
    "freq = {str(k): v for k, v in freq.items()}\n",
    "freq"
   ]
  },
  {
   "cell_type": "markdown",
   "metadata": {},
   "source": [
    "## Huffman Coding\n",
    "[source 1](https://www.geeksforgeeks.org/huffman-coding-in-python/) \\\n",
    "[source 2](https://www.programiz.com/dsa/huffman-coding)"
   ]
  },
  {
   "cell_type": "code",
   "execution_count": 36,
   "metadata": {},
   "outputs": [
    {
     "name": "stdout",
     "output_type": "stream",
     "text": [
      "Character: 0, Code: 00, Length of Code: 2, Frequency: 35588\n",
      "Character: 1, Code: 111, Length of Code: 3, Frequency: 28116\n",
      "Character: -1, Code: 110, Length of Code: 3, Frequency: 26736\n",
      "Character: 2, Code: 011, Length of Code: 3, Frequency: 18647\n",
      "Character: -2, Code: 010, Length of Code: 3, Frequency: 17595\n",
      "Character: 3, Code: 1001, Length of Code: 4, Frequency: 11097\n",
      "Character: -3, Code: 1000, Length of Code: 4, Frequency: 10455\n",
      "Character: 4, Code: 10110, Length of Code: 5, Frequency: 6221\n",
      "Character: -4, Code: 10100, Length of Code: 5, Frequency: 5654\n",
      "Character: 5, Code: 101110, Length of Code: 6, Frequency: 3197\n",
      "Character: -5, Code: 101010, Length of Code: 6, Frequency: 2919\n",
      "Character: 6, Code: 1011110, Length of Code: 7, Frequency: 1601\n",
      "Character: -6, Code: 1010110, Length of Code: 7, Frequency: 1577\n",
      "Character: 7, Code: 10111111, Length of Code: 8, Frequency: 907\n",
      "Character: -7, Code: 10101111, Length of Code: 8, Frequency: 817\n",
      "Character: 8, Code: 101111101, Length of Code: 9, Frequency: 449\n",
      "Character: -8, Code: 101011101, Length of Code: 9, Frequency: 415\n",
      "Character: 9, Code: 1011111000, Length of Code: 10, Frequency: 209\n",
      "Character: -9, Code: 1010111000, Length of Code: 10, Frequency: 181\n",
      "Character: 10, Code: 10111110011, Length of Code: 11, Frequency: 116\n",
      "Character: -10, Code: 10101110011, Length of Code: 11, Frequency: 110\n",
      "Character: 11, Code: 101111100100, Length of Code: 12, Frequency: 54\n",
      "Character: -11, Code: 101011100100, Length of Code: 12, Frequency: 37\n",
      "Character: 12, Code: 1010111001011, Length of Code: 13, Frequency: 21\n",
      "Character: -12, Code: 1010111001010, Length of Code: 13, Frequency: 20\n",
      "Character: -13, Code: 10111110010111, Length of Code: 14, Frequency: 18\n",
      "Character: 13, Code: 10111110010101, Length of Code: 14, Frequency: 13\n",
      "Character: 14, Code: 101111100101101, Length of Code: 15, Frequency: 10\n",
      "Character: -14, Code: 101111100101001, Length of Code: 15, Frequency: 7\n",
      "Character: 15, Code: 101111100101000, Length of Code: 15, Frequency: 5\n",
      "Character: -15, Code: 1011111001011000, Length of Code: 16, Frequency: 3\n",
      "Character: -16, Code: 10111110010110011, Length of Code: 17, Frequency: 3\n",
      "Character: 16, Code: 10111110010110010, Length of Code: 17, Frequency: 2\n",
      "used_bits=579459\n",
      "In Bytes=72432.375\n"
     ]
    }
   ],
   "source": [
    "# Huffman Coding in python\n",
    "\n",
    "\n",
    "# freq = {\"255\": 1000, \"10\": 99, \"0\": 1020, \"222\": 55}\n",
    "\n",
    "\n",
    "# Creating tree nodes\n",
    "class NodeTree(object):\n",
    "\n",
    "    def __init__(self, left=None, right=None):\n",
    "        self.left = left\n",
    "        self.right = right\n",
    "\n",
    "    def children(self):\n",
    "        return (self.left, self.right)\n",
    "\n",
    "    def nodes(self):\n",
    "        return (self.left, self.right)\n",
    "\n",
    "    def __str__(self):\n",
    "        return '%s_%s' % (self.left, self.right)\n",
    "\n",
    "\n",
    "# Main function implementing huffman coding\n",
    "def huffman_code_tree(node, left=True, binString=''):\n",
    "    if type(node) is str:\n",
    "        return {node: binString}\n",
    "    (l, r) = node.children()\n",
    "    d = dict()\n",
    "    d.update(huffman_code_tree(l, True, binString + '0'))\n",
    "    d.update(huffman_code_tree(r, False, binString + '1'))\n",
    "    return d\n",
    "\n",
    "def build_huffman_tree(freq_dict):\n",
    "\n",
    "    freq_dict = sorted(freq_dict.items(), key=lambda x: x[1], reverse=True)\n",
    "    nodes = freq_dict\n",
    "    while len(nodes) > 1:\n",
    "        (key1, c1) = nodes[-1]\n",
    "        (key2, c2) = nodes[-2]\n",
    "        nodes = nodes[:-2]\n",
    "        node = NodeTree(key1, key2)\n",
    "        nodes.append((node, c1 + c2))\n",
    "        nodes = sorted(nodes, key=lambda x: x[1], reverse=True)\n",
    "        # print(nodes)\n",
    "    \n",
    "    return nodes[0][0]\n",
    "\n",
    "def generate_huffman_codes(tree_root):\n",
    "    return huffman_code_tree(tree_root)\n",
    "\n",
    "\n",
    "root = build_huffman_tree(freq)\n",
    "huffmanCode = generate_huffman_codes(root)\n",
    "\n",
    "sorted_freq = sorted(freq.items(), key=lambda x: x[1], reverse=True)\n",
    "used_bits = 0\n",
    "for (char, frequency) in sorted_freq:\n",
    "    print(f\"Character: {char}, Code: {huffmanCode[char]}, Length of Code: {len(huffmanCode[char])}, Frequency: {frequency}\")\n",
    "    used_bits += (len(huffmanCode[char]) * frequency)\n",
    "\n",
    "print(f\"{used_bits=}\")\n",
    "print(f\"In Bytes={used_bits/8}\")\n"
   ]
  },
  {
   "cell_type": "code",
   "execution_count": null,
   "metadata": {},
   "outputs": [],
   "source": []
  }
 ],
 "metadata": {
  "kernelspec": {
   "display_name": ".venv",
   "language": "python",
   "name": "python3"
  },
  "language_info": {
   "codemirror_mode": {
    "name": "ipython",
    "version": 3
   },
   "file_extension": ".py",
   "mimetype": "text/x-python",
   "name": "python",
   "nbconvert_exporter": "python",
   "pygments_lexer": "ipython3",
   "version": "3.12.7"
  }
 },
 "nbformat": 4,
 "nbformat_minor": 2
}
