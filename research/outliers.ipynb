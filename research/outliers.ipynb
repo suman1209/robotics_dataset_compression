{
 "cells": [
  {
   "cell_type": "code",
   "execution_count": 1,
   "metadata": {},
   "outputs": [
    {
     "name": "stdout",
     "output_type": "stream",
     "text": [
      "Height: 180, Width: 320\n"
     ]
    }
   ],
   "source": [
    "from utils.dataset_utils import OriginalDataset, plot_image\n",
    "from utils.utils import get_storage\n",
    "import numpy as np\n",
    "\n",
    "original_dataset_path = \"datasets/droid_100_sample_pictures\"\n",
    "ds = OriginalDataset(data_path=original_dataset_path, color=True)\n",
    "\n",
    "height = len(ds[0])\n",
    "width = len(ds[0][0])\n",
    "channels = 3\n",
    "\n",
    "print(f\"Height: {height}, Width: {width}\")\n"
   ]
  },
  {
   "cell_type": "code",
   "execution_count": 2,
   "metadata": {},
   "outputs": [],
   "source": [
    "from collections.abc import Iterable\n",
    "\n",
    "# Accepts any kind of nested array and returns the minimum and maximum values.\n",
    "def get_array_min_max(img):\n",
    "   min_value = 999999\n",
    "   max_value = -99999\n",
    "   if isinstance(img, Iterable):\n",
    "      for iter in img:\n",
    "         res = get_array_min_max(iter)\n",
    "         min_value = min(min_value, res[0])\n",
    "         max_value = max(max_value, res[1])\n",
    "   else:\n",
    "      min_value = min(min_value, int(img))\n",
    "      max_value = max(max_value, int(img))\n",
    "   return min_value, max_value\n",
    "\n",
    "# Counts the number of entries in a nested array.\n",
    "def get_array_length(img):\n",
    "   count = 0\n",
    "   if isinstance(img, Iterable):\n",
    "      for iter in img:\n",
    "         count += get_array_length(iter)\n",
    "   else:\n",
    "      count += 1\n",
    "   return count\n",
    "\n",
    "# Returns the bit width to represent each entry in a nested array.\n",
    "def get_array_bit_width(img):\n",
    "   min_value, max_value = get_array_min_max(img)\n",
    "   return (int(max_value) - int(min_value)).bit_length()\n",
    "\n",
    "# Returns the total number of bits required to store the nested array.\n",
    "def get_array_size(img):\n",
    "   return get_array_length(img) * get_array_bit_width(img)\n"
   ]
  },
  {
   "cell_type": "code",
   "execution_count": 5,
   "metadata": {},
   "outputs": [
    {
     "name": "stderr",
     "output_type": "stream",
     "text": [
      "100%|██████████| 166/166 [00:30<00:00,  5.47it/s]\n",
      "100%|██████████| 166/166 [01:01<00:00,  2.68it/s]\n",
      "100%|██████████| 166/166 [00:53<00:00,  3.12it/s]"
     ]
    },
    {
     "name": "stdout",
     "output_type": "stream",
     "text": [
      "Total: 229478400\n",
      "Total Base: 210562359\n",
      "Total Delta: 132361710\n"
     ]
    },
    {
     "name": "stderr",
     "output_type": "stream",
     "text": [
      "\n"
     ]
    }
   ],
   "source": [
    "from tqdm import tqdm\n",
    "\n",
    "# Create delta. delta := img - base\n",
    "def create_delta(base, img):\n",
    "   delta = np.zeros((height, width, channels), dtype=int)\n",
    "   for y in range(height):\n",
    "      for x in range(width):\n",
    "         delta[y][x][0] = int(img[y][x][0]) - int(base[y][x][0])\n",
    "         delta[y][x][1] = int(img[y][x][1]) - int(base[y][x][1])\n",
    "         delta[y][x][2] = int(img[y][x][2]) - int(base[y][x][2])\n",
    "   return delta\n",
    "\n",
    "def create_outliers(img, cond):\n",
    "   positions = []\n",
    "   outliers = []\n",
    "   for x in range(height):\n",
    "      for y in range(width):\n",
    "         if cond(img[x][y]):\n",
    "            outliers.append(np.copy(img[x][y]))\n",
    "            positions.append([x, y])\n",
    "            img[x][y] = [0, 0, 0]\n",
    "   return positions, outliers\n",
    "\n",
    "def get_position_size(positions): # TODO: try to encode the positions with Andrea's bitmap method -> roaring bitmap\n",
    "   return get_array_size(positions)\n",
    "\n",
    "def delta_with_outliers(base, img):\n",
    "   threshold = 4 # TODO: opt \n",
    "\n",
    "   delta = create_delta(base, img)\n",
    "   positions, outliers = create_outliers(delta, lambda x: int(x[0]).bit_length() >= threshold or int(x[1]).bit_length() >= threshold or int(x[2]).bit_length() >= threshold)\n",
    "   \n",
    "   size = get_array_size(delta) + get_position_size(positions) + get_array_size(outliers)\n",
    "   return size\n",
    "\n",
    "# Measurement code\n",
    "total = 0\n",
    "for img in tqdm(ds):\n",
    "   total += get_array_size(img)\n",
    "\n",
    "base = ds[0]\n",
    "total_base = 0\n",
    "for img in tqdm(ds):\n",
    "   total_base += delta_with_outliers(base, img)\n",
    "\n",
    "prev = ds[0]\n",
    "total_delta = 0\n",
    "for img in tqdm(ds):\n",
    "   total_delta += delta_with_outliers(prev, img)\n",
    "   prev = img\n",
    "\n",
    "print(f\"Total: {total}\")\n",
    "print(f\"Total Base: {total_base}\")\n",
    "print(f\"Total Delta: {total_delta}\")\n"
   ]
  },
  {
   "cell_type": "code",
   "execution_count": null,
   "metadata": {},
   "outputs": [],
   "source": []
  }
 ],
 "metadata": {
  "kernelspec": {
   "display_name": ".venv",
   "language": "python",
   "name": "python3"
  },
  "language_info": {
   "codemirror_mode": {
    "name": "ipython",
    "version": 3
   },
   "file_extension": ".py",
   "mimetype": "text/x-python",
   "name": "python",
   "nbconvert_exporter": "python",
   "pygments_lexer": "ipython3",
   "version": "3.12.0"
  }
 },
 "nbformat": 4,
 "nbformat_minor": 2
}
